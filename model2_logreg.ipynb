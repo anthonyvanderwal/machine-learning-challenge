{
 "cells": [
  {
   "cell_type": "markdown",
   "metadata": {},
   "source": [
    "# Model2 - Logistic Regression"
   ]
  },
  {
   "cell_type": "code",
   "execution_count": 1,
   "metadata": {
    "ExecuteTime": {
     "end_time": "2021-02-07T02:02:43.425455Z",
     "start_time": "2021-02-07T02:02:43.423248Z"
    }
   },
   "outputs": [],
   "source": [
    "# update sklearn\n",
    "#!pip install sklearn --upgrade"
   ]
  },
  {
   "cell_type": "code",
   "execution_count": 2,
   "metadata": {
    "ExecuteTime": {
     "end_time": "2021-02-07T02:02:43.429852Z",
     "start_time": "2021-02-07T02:02:43.428024Z"
    }
   },
   "outputs": [],
   "source": [
    "# install joblib used to save model - restart kernel after installing \n",
    "#!pip install joblib"
   ]
  },
  {
   "cell_type": "markdown",
   "metadata": {},
   "source": [
    "### Read CSV and Data Cleaning"
   ]
  },
  {
   "cell_type": "code",
   "execution_count": 3,
   "metadata": {
    "ExecuteTime": {
     "end_time": "2021-02-07T02:02:43.854950Z",
     "start_time": "2021-02-07T02:02:43.432063Z"
    }
   },
   "outputs": [
    {
     "data": {
      "text/html": [
       "<div>\n",
       "<style scoped>\n",
       "    .dataframe tbody tr th:only-of-type {\n",
       "        vertical-align: middle;\n",
       "    }\n",
       "\n",
       "    .dataframe tbody tr th {\n",
       "        vertical-align: top;\n",
       "    }\n",
       "\n",
       "    .dataframe thead th {\n",
       "        text-align: right;\n",
       "    }\n",
       "</style>\n",
       "<table border=\"1\" class=\"dataframe\">\n",
       "  <thead>\n",
       "    <tr style=\"text-align: right;\">\n",
       "      <th></th>\n",
       "      <th>koi_disposition</th>\n",
       "      <th>koi_fpflag_nt</th>\n",
       "      <th>koi_fpflag_ss</th>\n",
       "      <th>koi_fpflag_co</th>\n",
       "      <th>koi_fpflag_ec</th>\n",
       "      <th>koi_period</th>\n",
       "      <th>koi_period_err1</th>\n",
       "      <th>koi_period_err2</th>\n",
       "      <th>koi_time0bk</th>\n",
       "      <th>koi_time0bk_err1</th>\n",
       "      <th>...</th>\n",
       "      <th>koi_steff_err2</th>\n",
       "      <th>koi_slogg</th>\n",
       "      <th>koi_slogg_err1</th>\n",
       "      <th>koi_slogg_err2</th>\n",
       "      <th>koi_srad</th>\n",
       "      <th>koi_srad_err1</th>\n",
       "      <th>koi_srad_err2</th>\n",
       "      <th>ra</th>\n",
       "      <th>dec</th>\n",
       "      <th>koi_kepmag</th>\n",
       "    </tr>\n",
       "  </thead>\n",
       "  <tbody>\n",
       "    <tr>\n",
       "      <th>0</th>\n",
       "      <td>CONFIRMED</td>\n",
       "      <td>0</td>\n",
       "      <td>0</td>\n",
       "      <td>0</td>\n",
       "      <td>0</td>\n",
       "      <td>54.418383</td>\n",
       "      <td>2.479000e-04</td>\n",
       "      <td>-2.479000e-04</td>\n",
       "      <td>162.513840</td>\n",
       "      <td>0.003520</td>\n",
       "      <td>...</td>\n",
       "      <td>-81</td>\n",
       "      <td>4.467</td>\n",
       "      <td>0.064</td>\n",
       "      <td>-0.096</td>\n",
       "      <td>0.927</td>\n",
       "      <td>0.105</td>\n",
       "      <td>-0.061</td>\n",
       "      <td>291.93423</td>\n",
       "      <td>48.141651</td>\n",
       "      <td>15.347</td>\n",
       "    </tr>\n",
       "    <tr>\n",
       "      <th>1</th>\n",
       "      <td>FALSE POSITIVE</td>\n",
       "      <td>0</td>\n",
       "      <td>1</td>\n",
       "      <td>0</td>\n",
       "      <td>0</td>\n",
       "      <td>19.899140</td>\n",
       "      <td>1.490000e-05</td>\n",
       "      <td>-1.490000e-05</td>\n",
       "      <td>175.850252</td>\n",
       "      <td>0.000581</td>\n",
       "      <td>...</td>\n",
       "      <td>-176</td>\n",
       "      <td>4.544</td>\n",
       "      <td>0.044</td>\n",
       "      <td>-0.176</td>\n",
       "      <td>0.868</td>\n",
       "      <td>0.233</td>\n",
       "      <td>-0.078</td>\n",
       "      <td>297.00482</td>\n",
       "      <td>48.134129</td>\n",
       "      <td>15.436</td>\n",
       "    </tr>\n",
       "    <tr>\n",
       "      <th>2</th>\n",
       "      <td>FALSE POSITIVE</td>\n",
       "      <td>0</td>\n",
       "      <td>1</td>\n",
       "      <td>0</td>\n",
       "      <td>0</td>\n",
       "      <td>1.736952</td>\n",
       "      <td>2.630000e-07</td>\n",
       "      <td>-2.630000e-07</td>\n",
       "      <td>170.307565</td>\n",
       "      <td>0.000115</td>\n",
       "      <td>...</td>\n",
       "      <td>-174</td>\n",
       "      <td>4.564</td>\n",
       "      <td>0.053</td>\n",
       "      <td>-0.168</td>\n",
       "      <td>0.791</td>\n",
       "      <td>0.201</td>\n",
       "      <td>-0.067</td>\n",
       "      <td>285.53461</td>\n",
       "      <td>48.285210</td>\n",
       "      <td>15.597</td>\n",
       "    </tr>\n",
       "    <tr>\n",
       "      <th>3</th>\n",
       "      <td>CONFIRMED</td>\n",
       "      <td>0</td>\n",
       "      <td>0</td>\n",
       "      <td>0</td>\n",
       "      <td>0</td>\n",
       "      <td>2.525592</td>\n",
       "      <td>3.760000e-06</td>\n",
       "      <td>-3.760000e-06</td>\n",
       "      <td>171.595550</td>\n",
       "      <td>0.001130</td>\n",
       "      <td>...</td>\n",
       "      <td>-211</td>\n",
       "      <td>4.438</td>\n",
       "      <td>0.070</td>\n",
       "      <td>-0.210</td>\n",
       "      <td>1.046</td>\n",
       "      <td>0.334</td>\n",
       "      <td>-0.133</td>\n",
       "      <td>288.75488</td>\n",
       "      <td>48.226200</td>\n",
       "      <td>15.509</td>\n",
       "    </tr>\n",
       "    <tr>\n",
       "      <th>4</th>\n",
       "      <td>CONFIRMED</td>\n",
       "      <td>0</td>\n",
       "      <td>0</td>\n",
       "      <td>0</td>\n",
       "      <td>0</td>\n",
       "      <td>4.134435</td>\n",
       "      <td>1.050000e-05</td>\n",
       "      <td>-1.050000e-05</td>\n",
       "      <td>172.979370</td>\n",
       "      <td>0.001900</td>\n",
       "      <td>...</td>\n",
       "      <td>-232</td>\n",
       "      <td>4.486</td>\n",
       "      <td>0.054</td>\n",
       "      <td>-0.229</td>\n",
       "      <td>0.972</td>\n",
       "      <td>0.315</td>\n",
       "      <td>-0.105</td>\n",
       "      <td>296.28613</td>\n",
       "      <td>48.224670</td>\n",
       "      <td>15.714</td>\n",
       "    </tr>\n",
       "  </tbody>\n",
       "</table>\n",
       "<p>5 rows × 41 columns</p>\n",
       "</div>"
      ],
      "text/plain": [
       "  koi_disposition  koi_fpflag_nt  koi_fpflag_ss  koi_fpflag_co  koi_fpflag_ec  \\\n",
       "0       CONFIRMED              0              0              0              0   \n",
       "1  FALSE POSITIVE              0              1              0              0   \n",
       "2  FALSE POSITIVE              0              1              0              0   \n",
       "3       CONFIRMED              0              0              0              0   \n",
       "4       CONFIRMED              0              0              0              0   \n",
       "\n",
       "   koi_period  koi_period_err1  koi_period_err2  koi_time0bk  \\\n",
       "0   54.418383     2.479000e-04    -2.479000e-04   162.513840   \n",
       "1   19.899140     1.490000e-05    -1.490000e-05   175.850252   \n",
       "2    1.736952     2.630000e-07    -2.630000e-07   170.307565   \n",
       "3    2.525592     3.760000e-06    -3.760000e-06   171.595550   \n",
       "4    4.134435     1.050000e-05    -1.050000e-05   172.979370   \n",
       "\n",
       "   koi_time0bk_err1  ...  koi_steff_err2  koi_slogg  koi_slogg_err1  \\\n",
       "0          0.003520  ...             -81      4.467           0.064   \n",
       "1          0.000581  ...            -176      4.544           0.044   \n",
       "2          0.000115  ...            -174      4.564           0.053   \n",
       "3          0.001130  ...            -211      4.438           0.070   \n",
       "4          0.001900  ...            -232      4.486           0.054   \n",
       "\n",
       "   koi_slogg_err2  koi_srad  koi_srad_err1  koi_srad_err2         ra  \\\n",
       "0          -0.096     0.927          0.105         -0.061  291.93423   \n",
       "1          -0.176     0.868          0.233         -0.078  297.00482   \n",
       "2          -0.168     0.791          0.201         -0.067  285.53461   \n",
       "3          -0.210     1.046          0.334         -0.133  288.75488   \n",
       "4          -0.229     0.972          0.315         -0.105  296.28613   \n",
       "\n",
       "         dec  koi_kepmag  \n",
       "0  48.141651      15.347  \n",
       "1  48.134129      15.436  \n",
       "2  48.285210      15.597  \n",
       "3  48.226200      15.509  \n",
       "4  48.224670      15.714  \n",
       "\n",
       "[5 rows x 41 columns]"
      ]
     },
     "execution_count": 3,
     "metadata": {},
     "output_type": "execute_result"
    }
   ],
   "source": [
    "import pandas as pd\n",
    "df = pd.read_csv('./resources/exoplanet_data.csv')\n",
    "df = df.dropna(axis='columns', how='all')  # Drop the null columns where all values are null\n",
    "df = df.dropna()  # Drop the null rows\n",
    "df.head()"
   ]
  },
  {
   "cell_type": "code",
   "execution_count": 4,
   "metadata": {
    "ExecuteTime": {
     "end_time": "2021-02-07T02:02:43.862278Z",
     "start_time": "2021-02-07T02:02:43.857352Z"
    },
    "scrolled": true
   },
   "outputs": [
    {
     "data": {
      "text/plain": [
       "koi_disposition       object\n",
       "koi_fpflag_nt          int64\n",
       "koi_fpflag_ss          int64\n",
       "koi_fpflag_co          int64\n",
       "koi_fpflag_ec          int64\n",
       "koi_period           float64\n",
       "koi_period_err1      float64\n",
       "koi_period_err2      float64\n",
       "koi_time0bk          float64\n",
       "koi_time0bk_err1     float64\n",
       "koi_time0bk_err2     float64\n",
       "koi_impact           float64\n",
       "koi_impact_err1      float64\n",
       "koi_impact_err2      float64\n",
       "koi_duration         float64\n",
       "koi_duration_err1    float64\n",
       "koi_duration_err2    float64\n",
       "koi_depth            float64\n",
       "koi_depth_err1       float64\n",
       "koi_depth_err2       float64\n",
       "koi_prad             float64\n",
       "koi_prad_err1        float64\n",
       "koi_prad_err2        float64\n",
       "koi_teq                int64\n",
       "koi_insol            float64\n",
       "koi_insol_err1       float64\n",
       "koi_insol_err2       float64\n",
       "koi_model_snr        float64\n",
       "koi_tce_plnt_num       int64\n",
       "koi_steff              int64\n",
       "koi_steff_err1         int64\n",
       "koi_steff_err2         int64\n",
       "koi_slogg            float64\n",
       "koi_slogg_err1       float64\n",
       "koi_slogg_err2       float64\n",
       "koi_srad             float64\n",
       "koi_srad_err1        float64\n",
       "koi_srad_err2        float64\n",
       "ra                   float64\n",
       "dec                  float64\n",
       "koi_kepmag           float64\n",
       "dtype: object"
      ]
     },
     "execution_count": 4,
     "metadata": {},
     "output_type": "execute_result"
    }
   ],
   "source": [
    "# features and targets (https://exoplanetarchive.ipac.caltech.edu/docs/API_kepcandidate_columns.html)\n",
    "df.dtypes"
   ]
  },
  {
   "cell_type": "markdown",
   "metadata": {},
   "source": [
    "### Select your features (columns)"
   ]
  },
  {
   "cell_type": "code",
   "execution_count": 5,
   "metadata": {
    "ExecuteTime": {
     "end_time": "2021-02-07T02:02:43.868571Z",
     "start_time": "2021-02-07T02:02:43.864305Z"
    }
   },
   "outputs": [
    {
     "name": "stdout",
     "output_type": "stream",
     "text": [
      "(6991, 38) (6991,)\n"
     ]
    }
   ],
   "source": [
    "# features and targets\n",
    "X = df.drop(['ra', 'dec', 'koi_disposition'], axis=1)\n",
    "y = df['koi_disposition']\n",
    "print(X.shape, y.shape)"
   ]
  },
  {
   "cell_type": "code",
   "execution_count": 6,
   "metadata": {
    "ExecuteTime": {
     "end_time": "2021-02-07T02:02:43.874930Z",
     "start_time": "2021-02-07T02:02:43.870234Z"
    }
   },
   "outputs": [
    {
     "data": {
      "text/plain": [
       "['CONFIRMED', 'FALSE POSITIVE', 'CANDIDATE']"
      ]
     },
     "execution_count": 6,
     "metadata": {},
     "output_type": "execute_result"
    }
   ],
   "source": [
    "# target categories\n",
    "labels = list(y.unique())\n",
    "labels"
   ]
  },
  {
   "cell_type": "code",
   "execution_count": 7,
   "metadata": {
    "ExecuteTime": {
     "end_time": "2021-02-07T02:02:44.282814Z",
     "start_time": "2021-02-07T02:02:43.876588Z"
    }
   },
   "outputs": [],
   "source": [
    "# target category encoding\n",
    "from sklearn.preprocessing import LabelEncoder\n",
    "label_encoder = LabelEncoder()\n",
    "label_encoder.fit(y)\n",
    "y_encoded = label_encoder.transform(y)"
   ]
  },
  {
   "cell_type": "markdown",
   "metadata": {},
   "source": [
    "### Split Data into Train & Test Subsets"
   ]
  },
  {
   "cell_type": "code",
   "execution_count": 8,
   "metadata": {
    "ExecuteTime": {
     "end_time": "2021-02-07T02:02:44.309050Z",
     "start_time": "2021-02-07T02:02:44.284924Z"
    }
   },
   "outputs": [],
   "source": [
    "# split 75/25 (train/test)\n",
    "from sklearn.model_selection import train_test_split\n",
    "X_train, X_test, y_train, y_test = train_test_split(X, y_encoded, random_state=1)"
   ]
  },
  {
   "cell_type": "markdown",
   "metadata": {},
   "source": [
    "### Pre-processing - Scaling & Selection"
   ]
  },
  {
   "cell_type": "code",
   "execution_count": 9,
   "metadata": {
    "ExecuteTime": {
     "end_time": "2021-02-07T02:02:44.325894Z",
     "start_time": "2021-02-07T02:02:44.313099Z"
    }
   },
   "outputs": [],
   "source": [
    "# scale with MinMaxScaler\n",
    "from sklearn.preprocessing import MinMaxScaler\n",
    "X_scaler = MinMaxScaler().fit(X)\n",
    "X_train_scaled = X_scaler.transform(X_train)\n",
    "X_test_scaled = X_scaler.transform(X_test)"
   ]
  },
  {
   "cell_type": "code",
   "execution_count": 10,
   "metadata": {
    "ExecuteTime": {
     "end_time": "2021-02-07T02:02:44.386951Z",
     "start_time": "2021-02-07T02:02:44.328708Z"
    }
   },
   "outputs": [
    {
     "name": "stdout",
     "output_type": "stream",
     "text": [
      "(5243, 20) (1748, 20)\n"
     ]
    }
   ],
   "source": [
    "# feature selction with chi2 - reduce number of features 50%\n",
    "from sklearn.feature_selection import SelectKBest\n",
    "from sklearn.feature_selection import chi2\n",
    "fs = SelectKBest(score_func=chi2, k=20)\n",
    "X_train_scaled_selected = fs.fit_transform(X_train_scaled, y_train)\n",
    "X_test_scaled_selected = fs.fit_transform(X_test_scaled, y_test)\n",
    "print(X_train_scaled_selected.shape, X_test_scaled_selected.shape)"
   ]
  },
  {
   "cell_type": "markdown",
   "metadata": {},
   "source": [
    "### Define, Train, and Test a Model"
   ]
  },
  {
   "cell_type": "code",
   "execution_count": 11,
   "metadata": {
    "ExecuteTime": {
     "end_time": "2021-02-07T02:02:44.457757Z",
     "start_time": "2021-02-07T02:02:44.388770Z"
    }
   },
   "outputs": [
    {
     "name": "stdout",
     "output_type": "stream",
     "text": [
      "Training Data Score: 0.8407400343314896\n",
      "Testing Data Score: 0.8203661327231121\n"
     ]
    }
   ],
   "source": [
    "# logistic regression\n",
    "from sklearn.linear_model import LogisticRegression\n",
    "model2 = LogisticRegression(max_iter=10000)\n",
    "model2.fit(X_train_scaled_selected, y_train)\n",
    "print(f'Training Data Score: {model2.score(X_train_scaled_selected, y_train)}')\n",
    "print(f'Testing Data Score: {model2.score(X_test_scaled_selected, y_test)}')"
   ]
  },
  {
   "cell_type": "markdown",
   "metadata": {},
   "source": [
    "### Hyperparameter Tuning"
   ]
  },
  {
   "cell_type": "code",
   "execution_count": 12,
   "metadata": {
    "ExecuteTime": {
     "end_time": "2021-02-07T02:02:44.462885Z",
     "start_time": "2021-02-07T02:02:44.459404Z"
    }
   },
   "outputs": [],
   "source": [
    "# define grid search model parameters\n",
    "from sklearn.model_selection import GridSearchCV\n",
    "param_grid = {'C': [0.1, 1, 10, 100], \n",
    "              'solver':[\"newton-cg\", \"lbfgs\", \"liblinear\", \"sag\", \"saga\"],\n",
    "              'penalty': ['l1', 'l2']}\n",
    "grid2 = GridSearchCV(model2, param_grid, verbose=3)"
   ]
  },
  {
   "cell_type": "code",
   "execution_count": 13,
   "metadata": {
    "ExecuteTime": {
     "end_time": "2021-02-07T02:03:58.205007Z",
     "start_time": "2021-02-07T02:02:44.464945Z"
    },
    "scrolled": true
   },
   "outputs": [
    {
     "name": "stdout",
     "output_type": "stream",
     "text": [
      "Fitting 5 folds for each of 40 candidates, totalling 200 fits\n",
      "[CV] C=0.1, penalty=l1, solver=newton-cg .............................\n",
      "[CV] ... C=0.1, penalty=l1, solver=newton-cg, score=nan, total=   0.0s\n",
      "[CV] C=0.1, penalty=l1, solver=newton-cg .............................\n",
      "[CV] ... C=0.1, penalty=l1, solver=newton-cg, score=nan, total=   0.0s\n",
      "[CV] C=0.1, penalty=l1, solver=newton-cg .............................\n",
      "[CV] ... C=0.1, penalty=l1, solver=newton-cg, score=nan, total=   0.0s\n",
      "[CV] C=0.1, penalty=l1, solver=newton-cg .............................\n",
      "[CV] ... C=0.1, penalty=l1, solver=newton-cg, score=nan, total=   0.0s\n",
      "[CV] C=0.1, penalty=l1, solver=newton-cg .............................\n",
      "[CV] ... C=0.1, penalty=l1, solver=newton-cg, score=nan, total=   0.0s\n",
      "[CV] C=0.1, penalty=l1, solver=lbfgs .................................\n",
      "[CV] ....... C=0.1, penalty=l1, solver=lbfgs, score=nan, total=   0.0s\n",
      "[CV] C=0.1, penalty=l1, solver=lbfgs .................................\n",
      "[CV] ....... C=0.1, penalty=l1, solver=lbfgs, score=nan, total=   0.0s\n",
      "[CV] C=0.1, penalty=l1, solver=lbfgs .................................\n",
      "[CV] ....... C=0.1, penalty=l1, solver=lbfgs, score=nan, total=   0.0s\n",
      "[CV] C=0.1, penalty=l1, solver=lbfgs .................................\n",
      "[CV] ....... C=0.1, penalty=l1, solver=lbfgs, score=nan, total=   0.0s\n",
      "[CV] C=0.1, penalty=l1, solver=lbfgs .................................\n",
      "[CV] ....... C=0.1, penalty=l1, solver=lbfgs, score=nan, total=   0.0s\n",
      "[CV] C=0.1, penalty=l1, solver=liblinear .............................\n",
      "[CV] . C=0.1, penalty=l1, solver=liblinear, score=0.823, total=   0.0s\n",
      "[CV] C=0.1, penalty=l1, solver=liblinear .............................\n",
      "[CV] . C=0.1, penalty=l1, solver=liblinear, score=0.806, total=   0.0s\n",
      "[CV] C=0.1, penalty=l1, solver=liblinear .............................\n",
      "[CV] . C=0.1, penalty=l1, solver=liblinear, score=0.805, total=   0.0s\n",
      "[CV] C=0.1, penalty=l1, solver=liblinear .............................\n",
      "[CV] . C=0.1, penalty=l1, solver=liblinear, score=0.802, total=   0.0s\n",
      "[CV] C=0.1, penalty=l1, solver=liblinear .............................\n",
      "[CV] . C=0.1, penalty=l1, solver=liblinear, score=0.800, total=   0.0s\n",
      "[CV] C=0.1, penalty=l1, solver=sag ...................................\n",
      "[CV] ......... C=0.1, penalty=l1, solver=sag, score=nan, total=   0.0s\n",
      "[CV] C=0.1, penalty=l1, solver=sag ...................................\n",
      "[CV] ......... C=0.1, penalty=l1, solver=sag, score=nan, total=   0.0s\n",
      "[CV] C=0.1, penalty=l1, solver=sag ...................................\n",
      "[CV] ......... C=0.1, penalty=l1, solver=sag, score=nan, total=   0.0s\n",
      "[CV] C=0.1, penalty=l1, solver=sag ...................................\n",
      "[CV] ......... C=0.1, penalty=l1, solver=sag, score=nan, total=   0.0s\n",
      "[CV] C=0.1, penalty=l1, solver=sag ...................................\n",
      "[CV] ......... C=0.1, penalty=l1, solver=sag, score=nan, total=   0.0s\n",
      "[CV] C=0.1, penalty=l1, solver=saga ..................................\n",
      "[CV] ...... C=0.1, penalty=l1, solver=saga, score=0.816, total=   0.0s\n",
      "[CV] C=0.1, penalty=l1, solver=saga ..................................\n"
     ]
    },
    {
     "name": "stderr",
     "output_type": "stream",
     "text": [
      "[Parallel(n_jobs=1)]: Using backend SequentialBackend with 1 concurrent workers.\n",
      "/Users/anthonyvanderwal/opt/anaconda3/envs/class_31/lib/python3.7/site-packages/sklearn/model_selection/_validation.py:552: FitFailedWarning: Estimator fit failed. The score on this train-test partition for these parameters will be set to nan. Details: \n",
      "Traceback (most recent call last):\n",
      "  File \"/Users/anthonyvanderwal/opt/anaconda3/envs/class_31/lib/python3.7/site-packages/sklearn/model_selection/_validation.py\", line 531, in _fit_and_score\n",
      "    estimator.fit(X_train, y_train, **fit_params)\n",
      "  File \"/Users/anthonyvanderwal/opt/anaconda3/envs/class_31/lib/python3.7/site-packages/sklearn/linear_model/_logistic.py\", line 1304, in fit\n",
      "    solver = _check_solver(self.solver, self.penalty, self.dual)\n",
      "  File \"/Users/anthonyvanderwal/opt/anaconda3/envs/class_31/lib/python3.7/site-packages/sklearn/linear_model/_logistic.py\", line 443, in _check_solver\n",
      "    \"got %s penalty.\" % (solver, penalty))\n",
      "ValueError: Solver newton-cg supports only 'l2' or 'none' penalties, got l1 penalty.\n",
      "\n",
      "  FitFailedWarning)\n",
      "[Parallel(n_jobs=1)]: Done   1 out of   1 | elapsed:    0.0s remaining:    0.0s\n",
      "[Parallel(n_jobs=1)]: Done   2 out of   2 | elapsed:    0.0s remaining:    0.0s\n",
      "/Users/anthonyvanderwal/opt/anaconda3/envs/class_31/lib/python3.7/site-packages/sklearn/model_selection/_validation.py:552: FitFailedWarning: Estimator fit failed. The score on this train-test partition for these parameters will be set to nan. Details: \n",
      "Traceback (most recent call last):\n",
      "  File \"/Users/anthonyvanderwal/opt/anaconda3/envs/class_31/lib/python3.7/site-packages/sklearn/model_selection/_validation.py\", line 531, in _fit_and_score\n",
      "    estimator.fit(X_train, y_train, **fit_params)\n",
      "  File \"/Users/anthonyvanderwal/opt/anaconda3/envs/class_31/lib/python3.7/site-packages/sklearn/linear_model/_logistic.py\", line 1304, in fit\n",
      "    solver = _check_solver(self.solver, self.penalty, self.dual)\n",
      "  File \"/Users/anthonyvanderwal/opt/anaconda3/envs/class_31/lib/python3.7/site-packages/sklearn/linear_model/_logistic.py\", line 443, in _check_solver\n",
      "    \"got %s penalty.\" % (solver, penalty))\n",
      "ValueError: Solver lbfgs supports only 'l2' or 'none' penalties, got l1 penalty.\n",
      "\n",
      "  FitFailedWarning)\n",
      "/Users/anthonyvanderwal/opt/anaconda3/envs/class_31/lib/python3.7/site-packages/sklearn/model_selection/_validation.py:552: FitFailedWarning: Estimator fit failed. The score on this train-test partition for these parameters will be set to nan. Details: \n",
      "Traceback (most recent call last):\n",
      "  File \"/Users/anthonyvanderwal/opt/anaconda3/envs/class_31/lib/python3.7/site-packages/sklearn/model_selection/_validation.py\", line 531, in _fit_and_score\n",
      "    estimator.fit(X_train, y_train, **fit_params)\n",
      "  File \"/Users/anthonyvanderwal/opt/anaconda3/envs/class_31/lib/python3.7/site-packages/sklearn/linear_model/_logistic.py\", line 1304, in fit\n",
      "    solver = _check_solver(self.solver, self.penalty, self.dual)\n",
      "  File \"/Users/anthonyvanderwal/opt/anaconda3/envs/class_31/lib/python3.7/site-packages/sklearn/linear_model/_logistic.py\", line 443, in _check_solver\n",
      "    \"got %s penalty.\" % (solver, penalty))\n",
      "ValueError: Solver sag supports only 'l2' or 'none' penalties, got l1 penalty.\n",
      "\n",
      "  FitFailedWarning)\n"
     ]
    },
    {
     "name": "stdout",
     "output_type": "stream",
     "text": [
      "[CV] ...... C=0.1, penalty=l1, solver=saga, score=0.814, total=   0.0s\n",
      "[CV] C=0.1, penalty=l1, solver=saga ..................................\n",
      "[CV] ...... C=0.1, penalty=l1, solver=saga, score=0.807, total=   0.0s\n",
      "[CV] C=0.1, penalty=l1, solver=saga ..................................\n",
      "[CV] ...... C=0.1, penalty=l1, solver=saga, score=0.807, total=   0.0s\n",
      "[CV] C=0.1, penalty=l1, solver=saga ..................................\n",
      "[CV] ...... C=0.1, penalty=l1, solver=saga, score=0.810, total=   0.0s\n",
      "[CV] C=0.1, penalty=l2, solver=newton-cg .............................\n",
      "[CV] . C=0.1, penalty=l2, solver=newton-cg, score=0.838, total=   0.1s\n",
      "[CV] C=0.1, penalty=l2, solver=newton-cg .............................\n",
      "[CV] . C=0.1, penalty=l2, solver=newton-cg, score=0.827, total=   0.1s\n",
      "[CV] C=0.1, penalty=l2, solver=newton-cg .............................\n",
      "[CV] . C=0.1, penalty=l2, solver=newton-cg, score=0.817, total=   0.0s\n",
      "[CV] C=0.1, penalty=l2, solver=newton-cg .............................\n",
      "[CV] . C=0.1, penalty=l2, solver=newton-cg, score=0.814, total=   0.0s\n",
      "[CV] C=0.1, penalty=l2, solver=newton-cg .............................\n",
      "[CV] . C=0.1, penalty=l2, solver=newton-cg, score=0.821, total=   0.0s\n",
      "[CV] C=0.1, penalty=l2, solver=lbfgs .................................\n",
      "[CV] ..... C=0.1, penalty=l2, solver=lbfgs, score=0.838, total=   0.0s\n",
      "[CV] C=0.1, penalty=l2, solver=lbfgs .................................\n",
      "[CV] ..... C=0.1, penalty=l2, solver=lbfgs, score=0.827, total=   0.0s\n",
      "[CV] C=0.1, penalty=l2, solver=lbfgs .................................\n",
      "[CV] ..... C=0.1, penalty=l2, solver=lbfgs, score=0.817, total=   0.0s\n",
      "[CV] C=0.1, penalty=l2, solver=lbfgs .................................\n",
      "[CV] ..... C=0.1, penalty=l2, solver=lbfgs, score=0.814, total=   0.0s\n",
      "[CV] C=0.1, penalty=l2, solver=lbfgs .................................\n",
      "[CV] ..... C=0.1, penalty=l2, solver=lbfgs, score=0.821, total=   0.0s\n",
      "[CV] C=0.1, penalty=l2, solver=liblinear .............................\n",
      "[CV] . C=0.1, penalty=l2, solver=liblinear, score=0.831, total=   0.0s\n",
      "[CV] C=0.1, penalty=l2, solver=liblinear .............................\n",
      "[CV] . C=0.1, penalty=l2, solver=liblinear, score=0.827, total=   0.0s\n",
      "[CV] C=0.1, penalty=l2, solver=liblinear .............................\n",
      "[CV] . C=0.1, penalty=l2, solver=liblinear, score=0.814, total=   0.0s\n",
      "[CV] C=0.1, penalty=l2, solver=liblinear .............................\n",
      "[CV] . C=0.1, penalty=l2, solver=liblinear, score=0.807, total=   0.0s\n",
      "[CV] C=0.1, penalty=l2, solver=liblinear .............................\n",
      "[CV] . C=0.1, penalty=l2, solver=liblinear, score=0.812, total=   0.0s\n",
      "[CV] C=0.1, penalty=l2, solver=sag ...................................\n",
      "[CV] ....... C=0.1, penalty=l2, solver=sag, score=0.838, total=   0.0s\n",
      "[CV] C=0.1, penalty=l2, solver=sag ...................................\n",
      "[CV] ....... C=0.1, penalty=l2, solver=sag, score=0.827, total=   0.0s\n",
      "[CV] C=0.1, penalty=l2, solver=sag ...................................\n",
      "[CV] ....... C=0.1, penalty=l2, solver=sag, score=0.816, total=   0.0s\n",
      "[CV] C=0.1, penalty=l2, solver=sag ...................................\n",
      "[CV] ....... C=0.1, penalty=l2, solver=sag, score=0.814, total=   0.0s\n",
      "[CV] C=0.1, penalty=l2, solver=sag ...................................\n",
      "[CV] ....... C=0.1, penalty=l2, solver=sag, score=0.820, total=   0.0s\n",
      "[CV] C=0.1, penalty=l2, solver=saga ..................................\n",
      "[CV] ...... C=0.1, penalty=l2, solver=saga, score=0.838, total=   0.0s\n",
      "[CV] C=0.1, penalty=l2, solver=saga ..................................\n",
      "[CV] ...... C=0.1, penalty=l2, solver=saga, score=0.827, total=   0.0s\n",
      "[CV] C=0.1, penalty=l2, solver=saga ..................................\n",
      "[CV] ...... C=0.1, penalty=l2, solver=saga, score=0.817, total=   0.0s\n",
      "[CV] C=0.1, penalty=l2, solver=saga ..................................\n",
      "[CV] ...... C=0.1, penalty=l2, solver=saga, score=0.814, total=   0.0s\n",
      "[CV] C=0.1, penalty=l2, solver=saga ..................................\n",
      "[CV] ...... C=0.1, penalty=l2, solver=saga, score=0.821, total=   0.0s\n",
      "[CV] C=1, penalty=l1, solver=newton-cg ...............................\n",
      "[CV] ..... C=1, penalty=l1, solver=newton-cg, score=nan, total=   0.0s\n",
      "[CV] C=1, penalty=l1, solver=newton-cg ...............................\n",
      "[CV] ..... C=1, penalty=l1, solver=newton-cg, score=nan, total=   0.0s\n",
      "[CV] C=1, penalty=l1, solver=newton-cg ...............................\n",
      "[CV] ..... C=1, penalty=l1, solver=newton-cg, score=nan, total=   0.0s\n",
      "[CV] C=1, penalty=l1, solver=newton-cg ...............................\n",
      "[CV] ..... C=1, penalty=l1, solver=newton-cg, score=nan, total=   0.0s\n",
      "[CV] C=1, penalty=l1, solver=newton-cg ...............................\n",
      "[CV] ..... C=1, penalty=l1, solver=newton-cg, score=nan, total=   0.0s\n",
      "[CV] C=1, penalty=l1, solver=lbfgs ...................................\n",
      "[CV] ......... C=1, penalty=l1, solver=lbfgs, score=nan, total=   0.0s\n",
      "[CV] C=1, penalty=l1, solver=lbfgs ...................................\n",
      "[CV] ......... C=1, penalty=l1, solver=lbfgs, score=nan, total=   0.0s\n",
      "[CV] C=1, penalty=l1, solver=lbfgs ...................................\n",
      "[CV] ......... C=1, penalty=l1, solver=lbfgs, score=nan, total=   0.0s\n",
      "[CV] C=1, penalty=l1, solver=lbfgs ...................................\n",
      "[CV] ......... C=1, penalty=l1, solver=lbfgs, score=nan, total=   0.0s\n",
      "[CV] C=1, penalty=l1, solver=lbfgs ...................................\n",
      "[CV] ......... C=1, penalty=l1, solver=lbfgs, score=nan, total=   0.0s\n",
      "[CV] C=1, penalty=l1, solver=liblinear ...............................\n",
      "[CV] ... C=1, penalty=l1, solver=liblinear, score=0.867, total=   0.0s\n",
      "[CV] C=1, penalty=l1, solver=liblinear ...............................\n",
      "[CV] ... C=1, penalty=l1, solver=liblinear, score=0.869, total=   0.0s\n",
      "[CV] C=1, penalty=l1, solver=liblinear ...............................\n",
      "[CV] ... C=1, penalty=l1, solver=liblinear, score=0.861, total=   0.0s\n",
      "[CV] C=1, penalty=l1, solver=liblinear ...............................\n"
     ]
    },
    {
     "name": "stderr",
     "output_type": "stream",
     "text": [
      "/Users/anthonyvanderwal/opt/anaconda3/envs/class_31/lib/python3.7/site-packages/sklearn/model_selection/_validation.py:552: FitFailedWarning: Estimator fit failed. The score on this train-test partition for these parameters will be set to nan. Details: \n",
      "Traceback (most recent call last):\n",
      "  File \"/Users/anthonyvanderwal/opt/anaconda3/envs/class_31/lib/python3.7/site-packages/sklearn/model_selection/_validation.py\", line 531, in _fit_and_score\n",
      "    estimator.fit(X_train, y_train, **fit_params)\n",
      "  File \"/Users/anthonyvanderwal/opt/anaconda3/envs/class_31/lib/python3.7/site-packages/sklearn/linear_model/_logistic.py\", line 1304, in fit\n",
      "    solver = _check_solver(self.solver, self.penalty, self.dual)\n",
      "  File \"/Users/anthonyvanderwal/opt/anaconda3/envs/class_31/lib/python3.7/site-packages/sklearn/linear_model/_logistic.py\", line 443, in _check_solver\n",
      "    \"got %s penalty.\" % (solver, penalty))\n",
      "ValueError: Solver newton-cg supports only 'l2' or 'none' penalties, got l1 penalty.\n",
      "\n",
      "  FitFailedWarning)\n",
      "/Users/anthonyvanderwal/opt/anaconda3/envs/class_31/lib/python3.7/site-packages/sklearn/model_selection/_validation.py:552: FitFailedWarning: Estimator fit failed. The score on this train-test partition for these parameters will be set to nan. Details: \n",
      "Traceback (most recent call last):\n",
      "  File \"/Users/anthonyvanderwal/opt/anaconda3/envs/class_31/lib/python3.7/site-packages/sklearn/model_selection/_validation.py\", line 531, in _fit_and_score\n",
      "    estimator.fit(X_train, y_train, **fit_params)\n",
      "  File \"/Users/anthonyvanderwal/opt/anaconda3/envs/class_31/lib/python3.7/site-packages/sklearn/linear_model/_logistic.py\", line 1304, in fit\n",
      "    solver = _check_solver(self.solver, self.penalty, self.dual)\n",
      "  File \"/Users/anthonyvanderwal/opt/anaconda3/envs/class_31/lib/python3.7/site-packages/sklearn/linear_model/_logistic.py\", line 443, in _check_solver\n",
      "    \"got %s penalty.\" % (solver, penalty))\n",
      "ValueError: Solver lbfgs supports only 'l2' or 'none' penalties, got l1 penalty.\n",
      "\n",
      "  FitFailedWarning)\n"
     ]
    },
    {
     "name": "stdout",
     "output_type": "stream",
     "text": [
      "[CV] ... C=1, penalty=l1, solver=liblinear, score=0.868, total=   0.1s\n",
      "[CV] C=1, penalty=l1, solver=liblinear ...............................\n",
      "[CV] ... C=1, penalty=l1, solver=liblinear, score=0.856, total=   0.0s\n",
      "[CV] C=1, penalty=l1, solver=sag .....................................\n",
      "[CV] ........... C=1, penalty=l1, solver=sag, score=nan, total=   0.0s\n",
      "[CV] C=1, penalty=l1, solver=sag .....................................\n",
      "[CV] ........... C=1, penalty=l1, solver=sag, score=nan, total=   0.0s\n",
      "[CV] C=1, penalty=l1, solver=sag .....................................\n",
      "[CV] ........... C=1, penalty=l1, solver=sag, score=nan, total=   0.0s\n",
      "[CV] C=1, penalty=l1, solver=sag .....................................\n",
      "[CV] ........... C=1, penalty=l1, solver=sag, score=nan, total=   0.0s\n",
      "[CV] C=1, penalty=l1, solver=sag .....................................\n",
      "[CV] ........... C=1, penalty=l1, solver=sag, score=nan, total=   0.0s\n",
      "[CV] C=1, penalty=l1, solver=saga ....................................\n"
     ]
    },
    {
     "name": "stderr",
     "output_type": "stream",
     "text": [
      "/Users/anthonyvanderwal/opt/anaconda3/envs/class_31/lib/python3.7/site-packages/sklearn/model_selection/_validation.py:552: FitFailedWarning: Estimator fit failed. The score on this train-test partition for these parameters will be set to nan. Details: \n",
      "Traceback (most recent call last):\n",
      "  File \"/Users/anthonyvanderwal/opt/anaconda3/envs/class_31/lib/python3.7/site-packages/sklearn/model_selection/_validation.py\", line 531, in _fit_and_score\n",
      "    estimator.fit(X_train, y_train, **fit_params)\n",
      "  File \"/Users/anthonyvanderwal/opt/anaconda3/envs/class_31/lib/python3.7/site-packages/sklearn/linear_model/_logistic.py\", line 1304, in fit\n",
      "    solver = _check_solver(self.solver, self.penalty, self.dual)\n",
      "  File \"/Users/anthonyvanderwal/opt/anaconda3/envs/class_31/lib/python3.7/site-packages/sklearn/linear_model/_logistic.py\", line 443, in _check_solver\n",
      "    \"got %s penalty.\" % (solver, penalty))\n",
      "ValueError: Solver sag supports only 'l2' or 'none' penalties, got l1 penalty.\n",
      "\n",
      "  FitFailedWarning)\n"
     ]
    },
    {
     "name": "stdout",
     "output_type": "stream",
     "text": [
      "[CV] ........ C=1, penalty=l1, solver=saga, score=0.871, total=   2.3s\n",
      "[CV] C=1, penalty=l1, solver=saga ....................................\n",
      "[CV] ........ C=1, penalty=l1, solver=saga, score=0.875, total=   2.2s\n",
      "[CV] C=1, penalty=l1, solver=saga ....................................\n",
      "[CV] ........ C=1, penalty=l1, solver=saga, score=0.869, total=   2.0s\n",
      "[CV] C=1, penalty=l1, solver=saga ....................................\n",
      "[CV] ........ C=1, penalty=l1, solver=saga, score=0.872, total=   2.2s\n",
      "[CV] C=1, penalty=l1, solver=saga ....................................\n",
      "[CV] ........ C=1, penalty=l1, solver=saga, score=0.861, total=   2.3s\n",
      "[CV] C=1, penalty=l2, solver=newton-cg ...............................\n",
      "[CV] ... C=1, penalty=l2, solver=newton-cg, score=0.847, total=   0.1s\n",
      "[CV] C=1, penalty=l2, solver=newton-cg ...............................\n",
      "[CV] ... C=1, penalty=l2, solver=newton-cg, score=0.840, total=   0.1s\n",
      "[CV] C=1, penalty=l2, solver=newton-cg ...............................\n",
      "[CV] ... C=1, penalty=l2, solver=newton-cg, score=0.835, total=   0.0s\n",
      "[CV] C=1, penalty=l2, solver=newton-cg ...............................\n",
      "[CV] ... C=1, penalty=l2, solver=newton-cg, score=0.839, total=   0.1s\n",
      "[CV] C=1, penalty=l2, solver=newton-cg ...............................\n",
      "[CV] ... C=1, penalty=l2, solver=newton-cg, score=0.827, total=   0.1s\n",
      "[CV] C=1, penalty=l2, solver=lbfgs ...................................\n",
      "[CV] ....... C=1, penalty=l2, solver=lbfgs, score=0.847, total=   0.0s\n",
      "[CV] C=1, penalty=l2, solver=lbfgs ...................................\n",
      "[CV] ....... C=1, penalty=l2, solver=lbfgs, score=0.840, total=   0.0s\n",
      "[CV] C=1, penalty=l2, solver=lbfgs ...................................\n",
      "[CV] ....... C=1, penalty=l2, solver=lbfgs, score=0.835, total=   0.0s\n",
      "[CV] C=1, penalty=l2, solver=lbfgs ...................................\n",
      "[CV] ....... C=1, penalty=l2, solver=lbfgs, score=0.839, total=   0.0s\n",
      "[CV] C=1, penalty=l2, solver=lbfgs ...................................\n",
      "[CV] ....... C=1, penalty=l2, solver=lbfgs, score=0.827, total=   0.0s\n",
      "[CV] C=1, penalty=l2, solver=liblinear ...............................\n",
      "[CV] ... C=1, penalty=l2, solver=liblinear, score=0.837, total=   0.0s\n",
      "[CV] C=1, penalty=l2, solver=liblinear ...............................\n",
      "[CV] ... C=1, penalty=l2, solver=liblinear, score=0.833, total=   0.0s\n",
      "[CV] C=1, penalty=l2, solver=liblinear ...............................\n",
      "[CV] ... C=1, penalty=l2, solver=liblinear, score=0.827, total=   0.0s\n",
      "[CV] C=1, penalty=l2, solver=liblinear ...............................\n",
      "[CV] ... C=1, penalty=l2, solver=liblinear, score=0.829, total=   0.0s\n",
      "[CV] C=1, penalty=l2, solver=liblinear ...............................\n",
      "[CV] ... C=1, penalty=l2, solver=liblinear, score=0.824, total=   0.0s\n",
      "[CV] C=1, penalty=l2, solver=sag .....................................\n",
      "[CV] ......... C=1, penalty=l2, solver=sag, score=0.847, total=   0.0s\n",
      "[CV] C=1, penalty=l2, solver=sag .....................................\n",
      "[CV] ......... C=1, penalty=l2, solver=sag, score=0.840, total=   0.0s\n",
      "[CV] C=1, penalty=l2, solver=sag .....................................\n",
      "[CV] ......... C=1, penalty=l2, solver=sag, score=0.835, total=   0.0s\n",
      "[CV] C=1, penalty=l2, solver=sag .....................................\n",
      "[CV] ......... C=1, penalty=l2, solver=sag, score=0.839, total=   0.0s\n",
      "[CV] C=1, penalty=l2, solver=sag .....................................\n",
      "[CV] ......... C=1, penalty=l2, solver=sag, score=0.828, total=   0.0s\n",
      "[CV] C=1, penalty=l2, solver=saga ....................................\n",
      "[CV] ........ C=1, penalty=l2, solver=saga, score=0.847, total=   0.0s\n",
      "[CV] C=1, penalty=l2, solver=saga ....................................\n",
      "[CV] ........ C=1, penalty=l2, solver=saga, score=0.840, total=   0.0s\n",
      "[CV] C=1, penalty=l2, solver=saga ....................................\n",
      "[CV] ........ C=1, penalty=l2, solver=saga, score=0.835, total=   0.0s\n",
      "[CV] C=1, penalty=l2, solver=saga ....................................\n",
      "[CV] ........ C=1, penalty=l2, solver=saga, score=0.839, total=   0.0s\n",
      "[CV] C=1, penalty=l2, solver=saga ....................................\n",
      "[CV] ........ C=1, penalty=l2, solver=saga, score=0.827, total=   0.0s\n",
      "[CV] C=10, penalty=l1, solver=newton-cg ..............................\n",
      "[CV] .... C=10, penalty=l1, solver=newton-cg, score=nan, total=   0.0s\n",
      "[CV] C=10, penalty=l1, solver=newton-cg ..............................\n",
      "[CV] .... C=10, penalty=l1, solver=newton-cg, score=nan, total=   0.0s\n",
      "[CV] C=10, penalty=l1, solver=newton-cg ..............................\n",
      "[CV] .... C=10, penalty=l1, solver=newton-cg, score=nan, total=   0.0s\n",
      "[CV] C=10, penalty=l1, solver=newton-cg ..............................\n",
      "[CV] .... C=10, penalty=l1, solver=newton-cg, score=nan, total=   0.0s\n",
      "[CV] C=10, penalty=l1, solver=newton-cg ..............................\n",
      "[CV] .... C=10, penalty=l1, solver=newton-cg, score=nan, total=   0.0s\n",
      "[CV] C=10, penalty=l1, solver=lbfgs ..................................\n",
      "[CV] ........ C=10, penalty=l1, solver=lbfgs, score=nan, total=   0.0s\n",
      "[CV] C=10, penalty=l1, solver=lbfgs ..................................\n",
      "[CV] ........ C=10, penalty=l1, solver=lbfgs, score=nan, total=   0.0s\n",
      "[CV] C=10, penalty=l1, solver=lbfgs ..................................\n",
      "[CV] ........ C=10, penalty=l1, solver=lbfgs, score=nan, total=   0.0s\n",
      "[CV] C=10, penalty=l1, solver=lbfgs ..................................\n",
      "[CV] ........ C=10, penalty=l1, solver=lbfgs, score=nan, total=   0.0s\n",
      "[CV] C=10, penalty=l1, solver=lbfgs ..................................\n",
      "[CV] ........ C=10, penalty=l1, solver=lbfgs, score=nan, total=   0.0s\n",
      "[CV] C=10, penalty=l1, solver=liblinear ..............................\n"
     ]
    },
    {
     "name": "stderr",
     "output_type": "stream",
     "text": [
      "/Users/anthonyvanderwal/opt/anaconda3/envs/class_31/lib/python3.7/site-packages/sklearn/model_selection/_validation.py:552: FitFailedWarning: Estimator fit failed. The score on this train-test partition for these parameters will be set to nan. Details: \n",
      "Traceback (most recent call last):\n",
      "  File \"/Users/anthonyvanderwal/opt/anaconda3/envs/class_31/lib/python3.7/site-packages/sklearn/model_selection/_validation.py\", line 531, in _fit_and_score\n",
      "    estimator.fit(X_train, y_train, **fit_params)\n",
      "  File \"/Users/anthonyvanderwal/opt/anaconda3/envs/class_31/lib/python3.7/site-packages/sklearn/linear_model/_logistic.py\", line 1304, in fit\n",
      "    solver = _check_solver(self.solver, self.penalty, self.dual)\n",
      "  File \"/Users/anthonyvanderwal/opt/anaconda3/envs/class_31/lib/python3.7/site-packages/sklearn/linear_model/_logistic.py\", line 443, in _check_solver\n",
      "    \"got %s penalty.\" % (solver, penalty))\n",
      "ValueError: Solver newton-cg supports only 'l2' or 'none' penalties, got l1 penalty.\n",
      "\n",
      "  FitFailedWarning)\n",
      "/Users/anthonyvanderwal/opt/anaconda3/envs/class_31/lib/python3.7/site-packages/sklearn/model_selection/_validation.py:552: FitFailedWarning: Estimator fit failed. The score on this train-test partition for these parameters will be set to nan. Details: \n",
      "Traceback (most recent call last):\n",
      "  File \"/Users/anthonyvanderwal/opt/anaconda3/envs/class_31/lib/python3.7/site-packages/sklearn/model_selection/_validation.py\", line 531, in _fit_and_score\n",
      "    estimator.fit(X_train, y_train, **fit_params)\n",
      "  File \"/Users/anthonyvanderwal/opt/anaconda3/envs/class_31/lib/python3.7/site-packages/sklearn/linear_model/_logistic.py\", line 1304, in fit\n",
      "    solver = _check_solver(self.solver, self.penalty, self.dual)\n",
      "  File \"/Users/anthonyvanderwal/opt/anaconda3/envs/class_31/lib/python3.7/site-packages/sklearn/linear_model/_logistic.py\", line 443, in _check_solver\n",
      "    \"got %s penalty.\" % (solver, penalty))\n",
      "ValueError: Solver lbfgs supports only 'l2' or 'none' penalties, got l1 penalty.\n",
      "\n",
      "  FitFailedWarning)\n"
     ]
    },
    {
     "name": "stdout",
     "output_type": "stream",
     "text": [
      "[CV] .. C=10, penalty=l1, solver=liblinear, score=0.881, total=   0.1s\n",
      "[CV] C=10, penalty=l1, solver=liblinear ..............................\n",
      "[CV] .. C=10, penalty=l1, solver=liblinear, score=0.875, total=   0.1s\n",
      "[CV] C=10, penalty=l1, solver=liblinear ..............................\n",
      "[CV] .. C=10, penalty=l1, solver=liblinear, score=0.873, total=   0.1s\n",
      "[CV] C=10, penalty=l1, solver=liblinear ..............................\n",
      "[CV] .. C=10, penalty=l1, solver=liblinear, score=0.871, total=   0.1s\n",
      "[CV] C=10, penalty=l1, solver=liblinear ..............................\n",
      "[CV] .. C=10, penalty=l1, solver=liblinear, score=0.868, total=   0.1s\n",
      "[CV] C=10, penalty=l1, solver=sag ....................................\n",
      "[CV] .......... C=10, penalty=l1, solver=sag, score=nan, total=   0.0s\n",
      "[CV] C=10, penalty=l1, solver=sag ....................................\n",
      "[CV] .......... C=10, penalty=l1, solver=sag, score=nan, total=   0.0s\n",
      "[CV] C=10, penalty=l1, solver=sag ....................................\n",
      "[CV] .......... C=10, penalty=l1, solver=sag, score=nan, total=   0.0s\n",
      "[CV] C=10, penalty=l1, solver=sag ....................................\n",
      "[CV] .......... C=10, penalty=l1, solver=sag, score=nan, total=   0.0s\n",
      "[CV] C=10, penalty=l1, solver=sag ....................................\n",
      "[CV] .......... C=10, penalty=l1, solver=sag, score=nan, total=   0.0s\n",
      "[CV] C=10, penalty=l1, solver=saga ...................................\n"
     ]
    },
    {
     "name": "stderr",
     "output_type": "stream",
     "text": [
      "/Users/anthonyvanderwal/opt/anaconda3/envs/class_31/lib/python3.7/site-packages/sklearn/model_selection/_validation.py:552: FitFailedWarning: Estimator fit failed. The score on this train-test partition for these parameters will be set to nan. Details: \n",
      "Traceback (most recent call last):\n",
      "  File \"/Users/anthonyvanderwal/opt/anaconda3/envs/class_31/lib/python3.7/site-packages/sklearn/model_selection/_validation.py\", line 531, in _fit_and_score\n",
      "    estimator.fit(X_train, y_train, **fit_params)\n",
      "  File \"/Users/anthonyvanderwal/opt/anaconda3/envs/class_31/lib/python3.7/site-packages/sklearn/linear_model/_logistic.py\", line 1304, in fit\n",
      "    solver = _check_solver(self.solver, self.penalty, self.dual)\n",
      "  File \"/Users/anthonyvanderwal/opt/anaconda3/envs/class_31/lib/python3.7/site-packages/sklearn/linear_model/_logistic.py\", line 443, in _check_solver\n",
      "    \"got %s penalty.\" % (solver, penalty))\n",
      "ValueError: Solver sag supports only 'l2' or 'none' penalties, got l1 penalty.\n",
      "\n",
      "  FitFailedWarning)\n"
     ]
    },
    {
     "name": "stdout",
     "output_type": "stream",
     "text": [
      "[CV] ....... C=10, penalty=l1, solver=saga, score=0.888, total=   4.9s\n",
      "[CV] C=10, penalty=l1, solver=saga ...................................\n",
      "[CV] ....... C=10, penalty=l1, solver=saga, score=0.882, total=   4.2s\n",
      "[CV] C=10, penalty=l1, solver=saga ...................................\n",
      "[CV] ....... C=10, penalty=l1, solver=saga, score=0.878, total=   3.9s\n",
      "[CV] C=10, penalty=l1, solver=saga ...................................\n",
      "[CV] ....... C=10, penalty=l1, solver=saga, score=0.879, total=   3.9s\n",
      "[CV] C=10, penalty=l1, solver=saga ...................................\n",
      "[CV] ....... C=10, penalty=l1, solver=saga, score=0.867, total=   3.7s\n",
      "[CV] C=10, penalty=l2, solver=newton-cg ..............................\n",
      "[CV] .. C=10, penalty=l2, solver=newton-cg, score=0.870, total=   0.1s\n",
      "[CV] C=10, penalty=l2, solver=newton-cg ..............................\n",
      "[CV] .. C=10, penalty=l2, solver=newton-cg, score=0.871, total=   0.1s\n",
      "[CV] C=10, penalty=l2, solver=newton-cg ..............................\n",
      "[CV] .. C=10, penalty=l2, solver=newton-cg, score=0.855, total=   0.1s\n",
      "[CV] C=10, penalty=l2, solver=newton-cg ..............................\n",
      "[CV] .. C=10, penalty=l2, solver=newton-cg, score=0.864, total=   0.1s\n",
      "[CV] C=10, penalty=l2, solver=newton-cg ..............................\n",
      "[CV] .. C=10, penalty=l2, solver=newton-cg, score=0.860, total=   0.1s\n",
      "[CV] C=10, penalty=l2, solver=lbfgs ..................................\n",
      "[CV] ...... C=10, penalty=l2, solver=lbfgs, score=0.870, total=   0.1s\n",
      "[CV] C=10, penalty=l2, solver=lbfgs ..................................\n",
      "[CV] ...... C=10, penalty=l2, solver=lbfgs, score=0.871, total=   0.1s\n",
      "[CV] C=10, penalty=l2, solver=lbfgs ..................................\n",
      "[CV] ...... C=10, penalty=l2, solver=lbfgs, score=0.855, total=   0.1s\n",
      "[CV] C=10, penalty=l2, solver=lbfgs ..................................\n",
      "[CV] ...... C=10, penalty=l2, solver=lbfgs, score=0.864, total=   0.1s\n",
      "[CV] C=10, penalty=l2, solver=lbfgs ..................................\n",
      "[CV] ...... C=10, penalty=l2, solver=lbfgs, score=0.860, total=   0.1s\n",
      "[CV] C=10, penalty=l2, solver=liblinear ..............................\n",
      "[CV] .. C=10, penalty=l2, solver=liblinear, score=0.862, total=   0.0s\n",
      "[CV] C=10, penalty=l2, solver=liblinear ..............................\n",
      "[CV] .. C=10, penalty=l2, solver=liblinear, score=0.862, total=   0.0s\n",
      "[CV] C=10, penalty=l2, solver=liblinear ..............................\n",
      "[CV] .. C=10, penalty=l2, solver=liblinear, score=0.847, total=   0.0s\n",
      "[CV] C=10, penalty=l2, solver=liblinear ..............................\n",
      "[CV] .. C=10, penalty=l2, solver=liblinear, score=0.853, total=   0.0s\n",
      "[CV] C=10, penalty=l2, solver=liblinear ..............................\n",
      "[CV] .. C=10, penalty=l2, solver=liblinear, score=0.847, total=   0.0s\n",
      "[CV] C=10, penalty=l2, solver=sag ....................................\n",
      "[CV] ........ C=10, penalty=l2, solver=sag, score=0.870, total=   0.1s\n",
      "[CV] C=10, penalty=l2, solver=sag ....................................\n",
      "[CV] ........ C=10, penalty=l2, solver=sag, score=0.871, total=   0.1s\n",
      "[CV] C=10, penalty=l2, solver=sag ....................................\n",
      "[CV] ........ C=10, penalty=l2, solver=sag, score=0.855, total=   0.1s\n",
      "[CV] C=10, penalty=l2, solver=sag ....................................\n",
      "[CV] ........ C=10, penalty=l2, solver=sag, score=0.864, total=   0.1s\n",
      "[CV] C=10, penalty=l2, solver=sag ....................................\n",
      "[CV] ........ C=10, penalty=l2, solver=sag, score=0.860, total=   0.1s\n",
      "[CV] C=10, penalty=l2, solver=saga ...................................\n",
      "[CV] ....... C=10, penalty=l2, solver=saga, score=0.870, total=   0.2s\n",
      "[CV] C=10, penalty=l2, solver=saga ...................................\n",
      "[CV] ....... C=10, penalty=l2, solver=saga, score=0.871, total=   0.2s\n",
      "[CV] C=10, penalty=l2, solver=saga ...................................\n",
      "[CV] ....... C=10, penalty=l2, solver=saga, score=0.855, total=   0.2s\n",
      "[CV] C=10, penalty=l2, solver=saga ...................................\n",
      "[CV] ....... C=10, penalty=l2, solver=saga, score=0.864, total=   0.2s\n",
      "[CV] C=10, penalty=l2, solver=saga ...................................\n",
      "[CV] ....... C=10, penalty=l2, solver=saga, score=0.860, total=   0.2s\n",
      "[CV] C=100, penalty=l1, solver=newton-cg .............................\n",
      "[CV] ... C=100, penalty=l1, solver=newton-cg, score=nan, total=   0.0s\n",
      "[CV] C=100, penalty=l1, solver=newton-cg .............................\n",
      "[CV] ... C=100, penalty=l1, solver=newton-cg, score=nan, total=   0.0s\n",
      "[CV] C=100, penalty=l1, solver=newton-cg .............................\n",
      "[CV] ... C=100, penalty=l1, solver=newton-cg, score=nan, total=   0.0s\n",
      "[CV] C=100, penalty=l1, solver=newton-cg .............................\n",
      "[CV] ... C=100, penalty=l1, solver=newton-cg, score=nan, total=   0.0s\n",
      "[CV] C=100, penalty=l1, solver=newton-cg .............................\n",
      "[CV] ... C=100, penalty=l1, solver=newton-cg, score=nan, total=   0.0s\n",
      "[CV] C=100, penalty=l1, solver=lbfgs .................................\n",
      "[CV] ....... C=100, penalty=l1, solver=lbfgs, score=nan, total=   0.0s\n",
      "[CV] C=100, penalty=l1, solver=lbfgs .................................\n",
      "[CV] ....... C=100, penalty=l1, solver=lbfgs, score=nan, total=   0.0s\n",
      "[CV] C=100, penalty=l1, solver=lbfgs .................................\n",
      "[CV] ....... C=100, penalty=l1, solver=lbfgs, score=nan, total=   0.0s\n",
      "[CV] C=100, penalty=l1, solver=lbfgs .................................\n",
      "[CV] ....... C=100, penalty=l1, solver=lbfgs, score=nan, total=   0.0s\n",
      "[CV] C=100, penalty=l1, solver=lbfgs .................................\n",
      "[CV] ....... C=100, penalty=l1, solver=lbfgs, score=nan, total=   0.0s\n",
      "[CV] C=100, penalty=l1, solver=liblinear .............................\n",
      "[CV] . C=100, penalty=l1, solver=liblinear, score=0.882, total=   0.1s\n",
      "[CV] C=100, penalty=l1, solver=liblinear .............................\n"
     ]
    },
    {
     "name": "stderr",
     "output_type": "stream",
     "text": [
      "/Users/anthonyvanderwal/opt/anaconda3/envs/class_31/lib/python3.7/site-packages/sklearn/model_selection/_validation.py:552: FitFailedWarning: Estimator fit failed. The score on this train-test partition for these parameters will be set to nan. Details: \n",
      "Traceback (most recent call last):\n",
      "  File \"/Users/anthonyvanderwal/opt/anaconda3/envs/class_31/lib/python3.7/site-packages/sklearn/model_selection/_validation.py\", line 531, in _fit_and_score\n",
      "    estimator.fit(X_train, y_train, **fit_params)\n",
      "  File \"/Users/anthonyvanderwal/opt/anaconda3/envs/class_31/lib/python3.7/site-packages/sklearn/linear_model/_logistic.py\", line 1304, in fit\n",
      "    solver = _check_solver(self.solver, self.penalty, self.dual)\n",
      "  File \"/Users/anthonyvanderwal/opt/anaconda3/envs/class_31/lib/python3.7/site-packages/sklearn/linear_model/_logistic.py\", line 443, in _check_solver\n",
      "    \"got %s penalty.\" % (solver, penalty))\n",
      "ValueError: Solver newton-cg supports only 'l2' or 'none' penalties, got l1 penalty.\n",
      "\n",
      "  FitFailedWarning)\n",
      "/Users/anthonyvanderwal/opt/anaconda3/envs/class_31/lib/python3.7/site-packages/sklearn/model_selection/_validation.py:552: FitFailedWarning: Estimator fit failed. The score on this train-test partition for these parameters will be set to nan. Details: \n",
      "Traceback (most recent call last):\n",
      "  File \"/Users/anthonyvanderwal/opt/anaconda3/envs/class_31/lib/python3.7/site-packages/sklearn/model_selection/_validation.py\", line 531, in _fit_and_score\n",
      "    estimator.fit(X_train, y_train, **fit_params)\n",
      "  File \"/Users/anthonyvanderwal/opt/anaconda3/envs/class_31/lib/python3.7/site-packages/sklearn/linear_model/_logistic.py\", line 1304, in fit\n",
      "    solver = _check_solver(self.solver, self.penalty, self.dual)\n",
      "  File \"/Users/anthonyvanderwal/opt/anaconda3/envs/class_31/lib/python3.7/site-packages/sklearn/linear_model/_logistic.py\", line 443, in _check_solver\n",
      "    \"got %s penalty.\" % (solver, penalty))\n",
      "ValueError: Solver lbfgs supports only 'l2' or 'none' penalties, got l1 penalty.\n",
      "\n",
      "  FitFailedWarning)\n"
     ]
    },
    {
     "name": "stdout",
     "output_type": "stream",
     "text": [
      "[CV] . C=100, penalty=l1, solver=liblinear, score=0.873, total=   0.1s\n",
      "[CV] C=100, penalty=l1, solver=liblinear .............................\n",
      "[CV] . C=100, penalty=l1, solver=liblinear, score=0.871, total=   0.1s\n",
      "[CV] C=100, penalty=l1, solver=liblinear .............................\n",
      "[CV] . C=100, penalty=l1, solver=liblinear, score=0.874, total=   0.1s\n",
      "[CV] C=100, penalty=l1, solver=liblinear .............................\n",
      "[CV] . C=100, penalty=l1, solver=liblinear, score=0.865, total=   0.1s\n",
      "[CV] C=100, penalty=l1, solver=sag ...................................\n",
      "[CV] ......... C=100, penalty=l1, solver=sag, score=nan, total=   0.0s\n",
      "[CV] C=100, penalty=l1, solver=sag ...................................\n",
      "[CV] ......... C=100, penalty=l1, solver=sag, score=nan, total=   0.0s\n",
      "[CV] C=100, penalty=l1, solver=sag ...................................\n",
      "[CV] ......... C=100, penalty=l1, solver=sag, score=nan, total=   0.0s\n",
      "[CV] C=100, penalty=l1, solver=sag ...................................\n",
      "[CV] ......... C=100, penalty=l1, solver=sag, score=nan, total=   0.0s\n",
      "[CV] C=100, penalty=l1, solver=sag ...................................\n",
      "[CV] ......... C=100, penalty=l1, solver=sag, score=nan, total=   0.0s\n",
      "[CV] C=100, penalty=l1, solver=saga ..................................\n"
     ]
    },
    {
     "name": "stderr",
     "output_type": "stream",
     "text": [
      "/Users/anthonyvanderwal/opt/anaconda3/envs/class_31/lib/python3.7/site-packages/sklearn/model_selection/_validation.py:552: FitFailedWarning: Estimator fit failed. The score on this train-test partition for these parameters will be set to nan. Details: \n",
      "Traceback (most recent call last):\n",
      "  File \"/Users/anthonyvanderwal/opt/anaconda3/envs/class_31/lib/python3.7/site-packages/sklearn/model_selection/_validation.py\", line 531, in _fit_and_score\n",
      "    estimator.fit(X_train, y_train, **fit_params)\n",
      "  File \"/Users/anthonyvanderwal/opt/anaconda3/envs/class_31/lib/python3.7/site-packages/sklearn/linear_model/_logistic.py\", line 1304, in fit\n",
      "    solver = _check_solver(self.solver, self.penalty, self.dual)\n",
      "  File \"/Users/anthonyvanderwal/opt/anaconda3/envs/class_31/lib/python3.7/site-packages/sklearn/linear_model/_logistic.py\", line 443, in _check_solver\n",
      "    \"got %s penalty.\" % (solver, penalty))\n",
      "ValueError: Solver sag supports only 'l2' or 'none' penalties, got l1 penalty.\n",
      "\n",
      "  FitFailedWarning)\n"
     ]
    },
    {
     "name": "stdout",
     "output_type": "stream",
     "text": [
      "[CV] ...... C=100, penalty=l1, solver=saga, score=0.885, total=   5.5s\n",
      "[CV] C=100, penalty=l1, solver=saga ..................................\n",
      "[CV] ...... C=100, penalty=l1, solver=saga, score=0.881, total=   4.0s\n",
      "[CV] C=100, penalty=l1, solver=saga ..................................\n",
      "[CV] ...... C=100, penalty=l1, solver=saga, score=0.882, total=   4.0s\n",
      "[CV] C=100, penalty=l1, solver=saga ..................................\n",
      "[CV] ...... C=100, penalty=l1, solver=saga, score=0.876, total=   4.7s\n",
      "[CV] C=100, penalty=l1, solver=saga ..................................\n",
      "[CV] ...... C=100, penalty=l1, solver=saga, score=0.868, total=   4.1s\n",
      "[CV] C=100, penalty=l2, solver=newton-cg .............................\n",
      "[CV] . C=100, penalty=l2, solver=newton-cg, score=0.879, total=   0.1s\n",
      "[CV] C=100, penalty=l2, solver=newton-cg .............................\n",
      "[CV] . C=100, penalty=l2, solver=newton-cg, score=0.883, total=   0.1s\n",
      "[CV] C=100, penalty=l2, solver=newton-cg .............................\n",
      "[CV] . C=100, penalty=l2, solver=newton-cg, score=0.874, total=   0.1s\n",
      "[CV] C=100, penalty=l2, solver=newton-cg .............................\n",
      "[CV] . C=100, penalty=l2, solver=newton-cg, score=0.875, total=   0.1s\n",
      "[CV] C=100, penalty=l2, solver=newton-cg .............................\n",
      "[CV] . C=100, penalty=l2, solver=newton-cg, score=0.865, total=   0.1s\n",
      "[CV] C=100, penalty=l2, solver=lbfgs .................................\n",
      "[CV] ..... C=100, penalty=l2, solver=lbfgs, score=0.880, total=   0.3s\n",
      "[CV] C=100, penalty=l2, solver=lbfgs .................................\n",
      "[CV] ..... C=100, penalty=l2, solver=lbfgs, score=0.883, total=   0.3s\n",
      "[CV] C=100, penalty=l2, solver=lbfgs .................................\n",
      "[CV] ..... C=100, penalty=l2, solver=lbfgs, score=0.874, total=   0.3s\n",
      "[CV] C=100, penalty=l2, solver=lbfgs .................................\n",
      "[CV] ..... C=100, penalty=l2, solver=lbfgs, score=0.874, total=   0.3s\n",
      "[CV] C=100, penalty=l2, solver=lbfgs .................................\n",
      "[CV] ..... C=100, penalty=l2, solver=lbfgs, score=0.865, total=   0.3s\n",
      "[CV] C=100, penalty=l2, solver=liblinear .............................\n",
      "[CV] . C=100, penalty=l2, solver=liblinear, score=0.874, total=   0.1s\n",
      "[CV] C=100, penalty=l2, solver=liblinear .............................\n",
      "[CV] . C=100, penalty=l2, solver=liblinear, score=0.875, total=   0.1s\n",
      "[CV] C=100, penalty=l2, solver=liblinear .............................\n",
      "[CV] . C=100, penalty=l2, solver=liblinear, score=0.864, total=   0.1s\n",
      "[CV] C=100, penalty=l2, solver=liblinear .............................\n",
      "[CV] . C=100, penalty=l2, solver=liblinear, score=0.868, total=   0.0s\n",
      "[CV] C=100, penalty=l2, solver=liblinear .............................\n",
      "[CV] . C=100, penalty=l2, solver=liblinear, score=0.865, total=   0.1s\n",
      "[CV] C=100, penalty=l2, solver=sag ...................................\n",
      "[CV] ....... C=100, penalty=l2, solver=sag, score=0.879, total=   0.5s\n",
      "[CV] C=100, penalty=l2, solver=sag ...................................\n",
      "[CV] ....... C=100, penalty=l2, solver=sag, score=0.883, total=   0.4s\n",
      "[CV] C=100, penalty=l2, solver=sag ...................................\n",
      "[CV] ....... C=100, penalty=l2, solver=sag, score=0.874, total=   0.5s\n",
      "[CV] C=100, penalty=l2, solver=sag ...................................\n",
      "[CV] ....... C=100, penalty=l2, solver=sag, score=0.875, total=   0.5s\n",
      "[CV] C=100, penalty=l2, solver=sag ...................................\n",
      "[CV] ....... C=100, penalty=l2, solver=sag, score=0.866, total=   0.5s\n",
      "[CV] C=100, penalty=l2, solver=saga ..................................\n",
      "[CV] ...... C=100, penalty=l2, solver=saga, score=0.879, total=   0.9s\n",
      "[CV] C=100, penalty=l2, solver=saga ..................................\n",
      "[CV] ...... C=100, penalty=l2, solver=saga, score=0.883, total=   0.7s\n",
      "[CV] C=100, penalty=l2, solver=saga ..................................\n",
      "[CV] ...... C=100, penalty=l2, solver=saga, score=0.874, total=   0.8s\n",
      "[CV] C=100, penalty=l2, solver=saga ..................................\n",
      "[CV] ...... C=100, penalty=l2, solver=saga, score=0.875, total=   0.8s\n",
      "[CV] C=100, penalty=l2, solver=saga ..................................\n",
      "[CV] ...... C=100, penalty=l2, solver=saga, score=0.866, total=   0.9s\n"
     ]
    },
    {
     "name": "stderr",
     "output_type": "stream",
     "text": [
      "[Parallel(n_jobs=1)]: Done 200 out of 200 | elapsed:  1.1min finished\n"
     ]
    },
    {
     "data": {
      "text/plain": [
       "GridSearchCV(estimator=LogisticRegression(max_iter=10000),\n",
       "             param_grid={'C': [0.1, 1, 10, 100], 'penalty': ['l1', 'l2'],\n",
       "                         'solver': ['newton-cg', 'lbfgs', 'liblinear', 'sag',\n",
       "                                    'saga']},\n",
       "             verbose=3)"
      ]
     },
     "execution_count": 13,
     "metadata": {},
     "output_type": "execute_result"
    }
   ],
   "source": [
    "# train grid search parameters\n",
    "grid2.fit(X_train_scaled_selected, y_train)"
   ]
  },
  {
   "cell_type": "code",
   "execution_count": 14,
   "metadata": {
    "ExecuteTime": {
     "end_time": "2021-02-07T02:03:58.212698Z",
     "start_time": "2021-02-07T02:03:58.207046Z"
    }
   },
   "outputs": [
    {
     "name": "stdout",
     "output_type": "stream",
     "text": [
      "{'C': 10, 'penalty': 'l1', 'solver': 'saga'}\n",
      "0.8786932665788573\n"
     ]
    }
   ],
   "source": [
    "# report 'best' score parameters from training dataset\n",
    "print(grid2.best_params_)\n",
    "print(grid2.best_score_)"
   ]
  },
  {
   "cell_type": "markdown",
   "metadata": {},
   "source": [
    "### Save the Model"
   ]
  },
  {
   "cell_type": "code",
   "execution_count": 15,
   "metadata": {
    "ExecuteTime": {
     "end_time": "2021-02-07T02:04:03.758058Z",
     "start_time": "2021-02-07T02:03:58.216114Z"
    }
   },
   "outputs": [
    {
     "data": {
      "text/plain": [
       "LogisticRegression(C=10, max_iter=10000, penalty='l1', solver='saga')"
      ]
     },
     "execution_count": 15,
     "metadata": {},
     "output_type": "execute_result"
    }
   ],
   "source": [
    "# create an instance of the model with 'best' parameters from grid search\n",
    "model2_best = LogisticRegression(max_iter=10000, \n",
    "                                 C=grid2.best_params_['C'], \n",
    "                                 solver=grid2.best_params_['solver'],\n",
    "                                 penalty=grid2.best_params_['penalty'])\n",
    "model2_best.fit(X_train_scaled_selected, y_train)"
   ]
  },
  {
   "cell_type": "code",
   "execution_count": 16,
   "metadata": {
    "ExecuteTime": {
     "end_time": "2021-02-07T02:04:04.149368Z",
     "start_time": "2021-02-07T02:04:03.759866Z"
    }
   },
   "outputs": [
    {
     "data": {
      "image/png": "[encoded data removed]",
      "text/plain": [
       "<Figure size 432x288 with 2 Axes>"
      ]
     },
     "metadata": {
      "needs_background": "light"
     },
     "output_type": "display_data"
    }
   ],
   "source": [
    "# test 'best' model parameters - confusion matrix\n",
    "import matplotlib.pyplot as plt\n",
    "from sklearn.metrics import plot_confusion_matrix\n",
    "plot_confusion_matrix(model2_best, X_test_scaled_selected, y_test, \n",
    "                      cmap='Blues', normalize=None, display_labels=labels);\n",
    "plt.savefig('./analysis/anthony_vanderwal_svc.png')"
   ]
  },
  {
   "cell_type": "code",
   "execution_count": 17,
   "metadata": {
    "ExecuteTime": {
     "end_time": "2021-02-07T02:04:04.156287Z",
     "start_time": "2021-02-07T02:04:04.151420Z"
    }
   },
   "outputs": [
    {
     "data": {
      "text/plain": [
       "['./analysis/anthony_vanderwal_logreg.sav']"
      ]
     },
     "execution_count": 17,
     "metadata": {},
     "output_type": "execute_result"
    }
   ],
   "source": [
    "# save 'best' model\n",
    "import joblib\n",
    "filename = './analysis/anthony_vanderwal_logreg.sav'\n",
    "joblib.dump(model2_best, filename)"
   ]
  }
 ],
 "metadata": {
  "hide_input": false,
  "kernel_info": {
   "name": "dev"
  },
  "kernelspec": {
   "display_name": "Python 3",
   "language": "python",
   "name": "python3"
  },
  "language_info": {
   "codemirror_mode": {
    "name": "ipython",
    "version": 3
   },
   "file_extension": ".py",
   "mimetype": "text/x-python",
   "name": "python",
   "nbconvert_exporter": "python",
   "pygments_lexer": "ipython3",
   "version": "3.7.7"
  },
  "nteract": {
   "version": "0.12.3"
  }
 },
 "nbformat": 4,
 "nbformat_minor": 2
}
